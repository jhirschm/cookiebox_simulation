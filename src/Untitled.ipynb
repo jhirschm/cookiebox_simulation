{
 "cells": [
  {
   "cell_type": "code",
   "execution_count": 1,
   "id": "c047fe06",
   "metadata": {},
   "outputs": [
    {
     "name": "stdout",
     "output_type": "stream",
     "text": [
      "MPS is available. Using GPU.\n"
     ]
    }
   ],
   "source": [
    "import torch\n",
    "import torch.nn as nn\n",
    "import torch.optim as optim\n",
    "from torch.utils.data import DataLoader, TensorDataset, random_split\n",
    "from sklearn.preprocessing import StandardScaler\n",
    "from sklearn.preprocessing import MinMaxScaler\n",
    "\n",
    "import h5py\n",
    "import matplotlib.pyplot as plt\n",
    "# Check if CUDA (GPU support) is available\n",
    "if torch.backends.mps.is_available() and torch.backends.mps.is_built():\n",
    "    device = torch.device(\"mps\")\n",
    "    print(\"MPS is available. Using GPU.\")\n",
    "else:\n",
    "    device = torch.device(\"cpu\")\n",
    "    print(\"MPS is not available. Using CPU.\")"
   ]
  },
  {
   "cell_type": "code",
   "execution_count": 123,
   "id": "7c82f2eb",
   "metadata": {},
   "outputs": [],
   "source": [
    "# Load and preprocess the data\n",
    "def load_and_preprocess_data(file_path):\n",
    "    with h5py.File(file_path, 'r') as h5f:\n",
    "        images = [h5f[img_name][\"hist\"][:].T for img_name in h5f.keys()]\n",
    "        npulses = [h5f[img_name].attrs['npulses'] for img_name in h5f.keys()]\n",
    "    scaler = MinMaxScaler(feature_range=(-1,1))\n",
    "    for i in range(len(images)):\n",
    "        images[i] = scaler.fit_transform(images[i])\n",
    "        \n",
    "    return images,npulses,scaler\n",
    "\n",
    "# Prepare sequences and targets\n",
    "def create_sequences_and_targets(images,npulses, seq_length = 16):\n",
    "    sequences = []\n",
    "    npulses_targets = []\n",
    "    for img, puls in zip(images,npulses):\n",
    "        sequences.append(img)\n",
    "        npulses_targets.append(puls)\n",
    "    return torch.tensor(sequences, dtype=torch.float32), torch.tensor(npulses_targets, dtype=torch.float32)\n",
    "\n",
    "# Dataset and DataLoader\n",
    "class CustomDataset(torch.utils.data.Dataset):\n",
    "    def __init__(self, sequences, npulse_targets):\n",
    "        self.sequences = sequences\n",
    "        self.npulse_targets = npulse_targets\n",
    "    \n",
    "    def __len__(self):\n",
    "        return len(self.sequences)\n",
    "    \n",
    "    def __getitem__(self, index):\n",
    "        return self.sequences[index], self.npulse_targets[index]\n",
    "    \n",
    "\n",
    "\n",
    "class LSTMModel(nn.Module):\n",
    "    def __init__(self, input_size, hidden_size, output_size, num_layers, dropout_prob):\n",
    "        super(LSTMModel, self).__init__()\n",
    "        self.lstm = nn.LSTM(input_size, hidden_size, num_layers=num_layers, batch_first=True)\n",
    "        self.dropout = nn.Dropout(dropout_prob)\n",
    "        self.fc_layers = nn.Sequential(\n",
    "            nn.Linear(hidden_size, 512),\n",
    "            nn.ReLU(),\n",
    "            nn.Linear(512, 256),\n",
    "            nn.ReLU(),\n",
    "            nn.Dropout(dropout_prob),\n",
    "            nn.Linear(256, output_size),\n",
    "            nn.ReLU(),\n",
    "        )\n",
    "    \n",
    "    \n",
    "    def forward(self, x):\n",
    "        output, _ = self.lstm(x)\n",
    "        output = output[:, -1, :]  # Taking the last time step output\n",
    "        output = self.dropout(output)\n",
    "        output = self.fc_layers(output)\n",
    "#         output = torch.round(output)\n",
    "\n",
    "        return output\n"
   ]
  },
  {
   "cell_type": "code",
   "execution_count": 124,
   "id": "3f568056",
   "metadata": {},
   "outputs": [],
   "source": [
    "# Hyperparameters\n",
    "batch_size = 32\n",
    "num_epochs = 20\n",
    "learning_rate = 0.000005\n",
    "input_size = 2048\n",
    "hidden_size = 512\n",
    "output_size = 1\n",
    "seq_length = 16  # Number of previous rows to consider\n",
    "dropout_prob = 0.2\n",
    "\n",
    "\n"
   ]
  },
  {
   "cell_type": "code",
   "execution_count": 12,
   "id": "593d3a7d",
   "metadata": {},
   "outputs": [
    {
     "name": "stderr",
     "output_type": "stream",
     "text": [
      "/var/folders/c_/vs55dp4d3lg5_1fzlmjf9_9xjbg4mn/T/ipykernel_57065/3974535024.py:19: UserWarning: Creating a tensor from a list of numpy.ndarrays is extremely slow. Please consider converting the list to a single numpy.ndarray with numpy.array() before converting to a tensor. (Triggered internally at /Users/runner/work/pytorch/pytorch/pytorch/torch/csrc/utils/tensor_new.cpp:264.)\n",
      "  return torch.tensor(sequences, dtype=torch.float32), torch.tensor(npulses_targets, dtype=torch.float32)\n"
     ]
    }
   ],
   "source": [
    "# Load and preprocess data\n",
    "data_file = '../lstm_data2_simdata.h5'  # Replace with the actual path to your HDF5 file\n",
    "images,npulses, scaler = load_and_preprocess_data(data_file)\n",
    "\n",
    "# # Create sequences and targets\n",
    "sequences, pulse_targets = create_sequences_and_targets(images,npulses)\n"
   ]
  },
  {
   "cell_type": "code",
   "execution_count": 125,
   "id": "5d61fa3e",
   "metadata": {},
   "outputs": [],
   "source": [
    "# # Create DataLoader\n",
    "dataset = CustomDataset(sequences, pulse_targets)\n",
    "train_size = int(0.8 * len(dataset))\n",
    "val_size = (len(dataset) - train_size)# // 2\n",
    "#test_size = len(dataset) - train_size - val_size\n",
    "#train_dataset, val_dataset, test_dataset = random_split(dataset, [train_size, val_size, test_size])\n",
    "train_dataset, val_dataset = random_split(dataset, [train_size, val_size])\n",
    "\n",
    "\n",
    "train_dataloader = DataLoader(train_dataset, batch_size=batch_size, shuffle=True)\n",
    "val_dataloader = DataLoader(val_dataset, batch_size=batch_size, shuffle=False)\n",
    "\n",
    "#test_dataloader = DataLoader(test_dataset, batch_size=batch_size, shuffle=False)\n",
    "\n",
    "# # Initialize the model\n",
    "model = LSTMModel(input_size, hidden_size, output_size, num_layers=2, dropout_prob=.3)\n",
    "model.to(device)\n",
    "# # Loss function and optimizer\n",
    "criterion = nn.MSELoss()\n",
    "optimizer = optim.Adam(model.parameters(), lr=learning_rate)"
   ]
  },
  {
   "cell_type": "code",
   "execution_count": 126,
   "id": "43f98d5d",
   "metadata": {},
   "outputs": [
    {
     "name": "stdout",
     "output_type": "stream",
     "text": [
      "0.9976659067337513\n",
      "Epoch [1/20], Train Loss: 2.3341, Val Loss: 0.6550\n",
      "0.7011102727339772\n",
      "Epoch [2/20], Train Loss: 0.6976, Val Loss: 0.6552\n",
      "0.004778334675950812\n",
      "Epoch [3/20], Train Loss: 0.6943, Val Loss: 0.6572\n",
      "-0.0005861119598982746\n",
      "Epoch [4/20], Train Loss: 0.6947, Val Loss: 0.6685\n",
      "0.00239187930193388\n",
      "Epoch [5/20], Train Loss: 0.6926, Val Loss: 0.6604\n",
      "0.0007279498015995174\n",
      "Epoch [6/20], Train Loss: 0.6921, Val Loss: 0.6579\n",
      "0.0016673179552535494\n",
      "Epoch [7/20], Train Loss: 0.6915, Val Loss: 0.6637\n",
      "0.0016484622625819114\n",
      "Epoch [8/20], Train Loss: 0.6903, Val Loss: 0.6609\n",
      "-4.177926298002859e-05\n",
      "Epoch [9/20], Train Loss: 0.6904, Val Loss: 0.6591\n",
      "0.0032378443578338603\n",
      "Epoch [10/20], Train Loss: 0.6881, Val Loss: 0.6592\n",
      "-0.0001567609681735222\n",
      "Epoch [11/20], Train Loss: 0.6882, Val Loss: 0.6707\n",
      "-0.0005726319797345749\n",
      "Epoch [12/20], Train Loss: 0.6885, Val Loss: 0.6676\n",
      "0.0016298827334573411\n",
      "Epoch [13/20], Train Loss: 0.6870, Val Loss: 0.6722\n",
      "0.0020594390200430993\n",
      "Epoch [14/20], Train Loss: 0.6856, Val Loss: 0.6577\n",
      "0.00021706450755893338\n",
      "Epoch [15/20], Train Loss: 0.6854, Val Loss: 0.6825\n",
      "-0.000990195887979535\n",
      "Epoch [16/20], Train Loss: 0.6863, Val Loss: 0.6692\n",
      "0.0006219900466762959\n",
      "Epoch [17/20], Train Loss: 0.6851, Val Loss: 0.6604\n",
      "-0.0003114139049916084\n",
      "Epoch [18/20], Train Loss: 0.6858, Val Loss: 0.6621\n",
      "-0.0012911603562919074\n",
      "Early stopping triggered. Best training loss: 0.6855759286880493\n",
      "Training finished!\n"
     ]
    }
   ],
   "source": [
    "# Lists to store training and validation losses\n",
    "train_losses = []\n",
    "val_losses = []\n",
    "\n",
    "#Initialize variables for early stopping\n",
    "best_train_loss = 1000\n",
    "patience = 5  # Number of epochs without improvement to wait before stopping\n",
    "min_loss_change = 0.001  # Half a percent change threshold\n",
    "early_stopping_counter = 0\n",
    "\n",
    "# Training loop\n",
    "for epoch in range(num_epochs):\n",
    "    model.train()\n",
    "    total_train_loss = 0\n",
    "    for batch_sequences, batch_pulses in train_dataloader:\n",
    "        batch_sequences, batch_pulses = batch_sequences.to(device), batch_pulses.to(device)\n",
    "        optimizer.zero_grad()\n",
    "        \n",
    "        outputs = model(batch_sequences)\n",
    "\n",
    "        # Calculate loss for the new output (no tanh)\n",
    "        loss = criterion(outputs, batch_pulses)\n",
    "        \n",
    "        loss.backward()\n",
    "        optimizer.step()\n",
    "        \n",
    "        total_train_loss += loss.item()\n",
    "    \n",
    "    train_loss = total_train_loss / len(train_dataloader)\n",
    "    train_losses.append(train_loss)\n",
    "    \n",
    "    loss_change = (best_train_loss-train_loss)/best_train_loss\n",
    "    # Check if training loss has improved\n",
    "    print(loss_change)\n",
    "    if loss_change >= min_loss_change:\n",
    "        best_train_loss = train_loss\n",
    "        early_stopping_counter = 0\n",
    "    else:\n",
    "        early_stopping_counter += 1\n",
    "\n",
    "    # Check if early stopping criteria are met\n",
    "    if early_stopping_counter >= patience:\n",
    "        print(f\"Early stopping triggered. Best training loss: {best_train_loss}\")\n",
    "        break\n",
    "        \n",
    "    # Evaluation on validation set\n",
    "    model.eval()\n",
    "    with torch.no_grad():\n",
    "        total_val_loss = 0\n",
    "        for batch_sequences, batch_pulses in val_dataloader:\n",
    "            batch_sequences, batch_pulses = batch_sequences.to(device), batch_pulses.to(device)\n",
    "            outputs = model(batch_sequences)\n",
    "            \n",
    "            # Calculate loss for the existing outputs (with tanh)\n",
    "            loss= criterion(outputs, batch_pulses)\n",
    "\n",
    "            total_val_loss += loss.item()\n",
    "        \n",
    "        val_loss = total_val_loss / len(val_dataloader)\n",
    "        val_losses.append(val_loss)\n",
    "    \n",
    "    print(f'Epoch [{epoch+1}/{num_epochs}], Train Loss: {train_loss:.4f}, Val Loss: {val_loss:.4f}')\n",
    "    final_num_epochs = epoch\n",
    "print(\"Training finished!\")\n"
   ]
  },
  {
   "cell_type": "code",
   "execution_count": 127,
   "id": "c3853363",
   "metadata": {},
   "outputs": [
    {
     "data": {
      "image/png": "[encoded data removed]",
      "text/plain": [
       "<Figure size 640x480 with 1 Axes>"
      ]
     },
     "metadata": {},
     "output_type": "display_data"
    }
   ],
   "source": [
    "# Plotting training and validation losses\n",
    "plt.plot(range(2, final_num_epochs + 1), train_losses[1:final_num_epochs], label='Train Loss')\n",
    "plt.plot(range(2, final_num_epochs + 1), val_losses[1:final_num_epochs], label='Validation Loss')\n",
    "plt.xlabel('Epoch')\n",
    "plt.ylabel('Loss')\n",
    "plt.title('Training and Validation Loss')\n",
    "plt.legend()\n",
    "plt.show()\n",
    "\n",
    "# Save the trained model\n",
    "torch.save(model.state_dict(), 'lstm_pulsesOnly_model.pth')"
   ]
  },
  {
   "cell_type": "code",
   "execution_count": 128,
   "id": "e4a1c9a3",
   "metadata": {},
   "outputs": [
    {
     "name": "stdout",
     "output_type": "stream",
     "text": [
      "Ground Truth Pulses: 3\n",
      "Predicted Pulses: 1.883428931236267\n"
     ]
    }
   ],
   "source": [
    "# Load the trained model\n",
    "model = LSTMModel(input_size, hidden_size, output_size,num_layers=2, dropout_prob=0)\n",
    "model.to(device)\n",
    "model.load_state_dict(torch.load('lstm_pulsesOnly_model.pth'))\n",
    "model.eval()\n",
    "\n",
    "new_images = images  \n",
    "\n",
    "new_example_image_normalized= new_images[0]\n",
    "examples_pulses = npulses[0]\n",
    "\n",
    "initial_input = torch.tensor(new_example_image_normalized, dtype=torch.float32)\n",
    "\n",
    "# Predict the remaining 8 rows using the LSTM model\n",
    "with torch.no_grad():\n",
    "    predicted_rows = initial_input.clone()\n",
    "    input_seq = predicted_rows.unsqueeze(0)\n",
    "    input_seq = input_seq.to(device)\n",
    "    predicted_pulses = model(input_seq)\n",
    "    predicted_pulses = predicted_pulses.to('cpu')\n",
    "\n",
    "print(f'Ground Truth Pulses: {examples_pulses}')\n",
    "print(f'Predicted Pulses: {predicted_pulses[0,0]}')\n",
    " \n",
    "\n"
   ]
  },
  {
   "cell_type": "code",
   "execution_count": null,
   "id": "a8589cd0",
   "metadata": {},
   "outputs": [],
   "source": []
  }
 ],
 "metadata": {
  "kernelspec": {
   "display_name": "Python 3 (ipykernel)",
   "language": "python",
   "name": "python3"
  },
  "language_info": {
   "codemirror_mode": {
    "name": "ipython",
    "version": 3
   },
   "file_extension": ".py",
   "mimetype": "text/x-python",
   "name": "python",
   "nbconvert_exporter": "python",
   "pygments_lexer": "ipython3",
   "version": "3.11.3"
  }
 },
 "nbformat": 4,
 "nbformat_minor": 5
}
