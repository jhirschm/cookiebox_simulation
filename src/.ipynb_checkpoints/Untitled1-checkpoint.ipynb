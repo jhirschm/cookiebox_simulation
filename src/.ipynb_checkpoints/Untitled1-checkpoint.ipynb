{
 "cells": [
  {
   "cell_type": "code",
   "execution_count": 39,
   "id": "fa1a3265",
   "metadata": {},
   "outputs": [
    {
     "name": "stdout",
     "output_type": "stream",
     "text": [
      "MPS is available. Using GPU.\n"
     ]
    }
   ],
   "source": [
    "import torch\n",
    "import torch.nn as nn\n",
    "import torch.optim as optim\n",
    "from torch.utils.data import DataLoader, TensorDataset, random_split\n",
    "from sklearn.preprocessing import StandardScaler\n",
    "from sklearn.preprocessing import MinMaxScaler\n",
    "from torch.nn import BCEWithLogitsLoss\n",
    "\n",
    "\n",
    "import h5py\n",
    "import matplotlib.pyplot as plt\n",
    "# Check if CUDA (GPU support) is available\n",
    "if torch.backends.mps.is_available() and torch.backends.mps.is_built():\n",
    "    device = torch.device(\"mps\")\n",
    "    print(\"MPS is available. Using GPU.\")\n",
    "else:\n",
    "    device = torch.device(\"cpu\")\n",
    "    print(\"MPS is not available. Using CPU.\")"
   ]
  },
  {
   "cell_type": "code",
   "execution_count": 32,
   "id": "ef9966ec",
   "metadata": {},
   "outputs": [],
   "source": [
    "# Load and preprocess the data\n",
    "def load_and_preprocess_data(file_path):\n",
    "    with h5py.File(file_path, 'r') as h5f:\n",
    "        images = [h5f[img_name][\"hist\"][:].T for img_name in h5f.keys()]\n",
    "        npulses = [h5f[img_name].attrs['npulses'] for img_name in h5f.keys()]\n",
    "    scaler = MinMaxScaler(feature_range=(-1,1))\n",
    "    for i in range(len(images)):\n",
    "        images[i] = scaler.fit_transform(images[i])\n",
    "        \n",
    "    return images,npulses,scaler\n",
    "\n",
    "# def create_sequences_and_targets(images, npulses, num_classes=10):\n",
    "#     sequences = []\n",
    "#     npulses_targets = []\n",
    "#     for img, puls in zip(images, npulses):\n",
    "#         sequences.append(img)\n",
    "        \n",
    "#         # Convert to class index (subtract 1 to convert from 1-based to 0-based indexing)\n",
    "#         class_index = puls - 1\n",
    "#         npulses_targets.append(class_index)\n",
    "    \n",
    "#     return torch.tensor(sequences, dtype=torch.float32), torch.tensor(npulses_targets, dtype=torch.long)\n",
    "\n",
    "def create_sequences_and_targets(images, npulses, num_classes=10):\n",
    "    sequences = []\n",
    "    npulses_targets = []\n",
    "    for img, puls in zip(images, npulses):\n",
    "        sequences.append(img)\n",
    "        \n",
    "        # Convert to one-hot encoded labels\n",
    "        one_hot_labels = torch.zeros(num_classes)  # Initialize with zeros\n",
    "        one_hot_labels[puls - 1] = 1  # Set the appropriate index to 1\n",
    "        npulses_targets.append(one_hot_labels)\n",
    "    \n",
    "    return torch.tensor(sequences, dtype=torch.float32), torch.stack(npulses_targets)\n",
    "class CustomDataset(torch.utils.data.Dataset):\n",
    "    def __init__(self, sequences, npulse_targets):\n",
    "        self.sequences = sequences\n",
    "        self.npulse_targets = npulse_targets\n",
    "    \n",
    "    def __len__(self):\n",
    "        return len(self.sequences)\n",
    "    \n",
    "    def __getitem__(self, index):\n",
    "        return self.sequences[index], self.npulse_targets[index]\n",
    "    \n",
    "\n",
    "\n",
    "# Define the LSTM model\n",
    "class PulseLSTMClassifier(nn.Module):\n",
    "    def __init__(self, input_size, hidden_size, num_layers, num_classes):\n",
    "        super(PulseLSTMClassifier, self).__init__()\n",
    "        self.lstm = nn.LSTM(input_size, hidden_size, num_layers, batch_first=True)\n",
    "        self.fc = nn.Linear(hidden_size, num_classes)\n",
    "    \n",
    "    def forward(self, x):\n",
    "        out, _ = self.lstm(x)\n",
    "        out = self.fc(out[:, -1, :])\n",
    "        return out\n"
   ]
  },
  {
   "cell_type": "code",
   "execution_count": 43,
   "id": "b74b09ab",
   "metadata": {},
   "outputs": [],
   "source": [
    "# Hyperparameters\n",
    "input_size = 2048\n",
    "hidden_size = 128\n",
    "num_layers = 2\n",
    "num_classes = 10\n",
    "batch_size = 32\n",
    "learning_rate = 0.001\n",
    "num_epochs = 20\n",
    "\n",
    "\n"
   ]
  },
  {
   "cell_type": "code",
   "execution_count": 34,
   "id": "55ec9300",
   "metadata": {},
   "outputs": [],
   "source": [
    "# Load and preprocess data\n",
    "data_file = '../lstm_data2_simdata.h5'  # Replace with the actual path to your HDF5 file\n",
    "images,npulses, scaler = load_and_preprocess_data(data_file)\n",
    "\n",
    "# # Create sequences and targets\n",
    "sequences, pulse_targets = create_sequences_and_targets(images,npulses)\n"
   ]
  },
  {
   "cell_type": "code",
   "execution_count": null,
   "id": "8386dcb0",
   "metadata": {},
   "outputs": [],
   "source": []
  },
  {
   "cell_type": "code",
   "execution_count": null,
   "id": "0f363cd6",
   "metadata": {},
   "outputs": [],
   "source": []
  },
  {
   "cell_type": "code",
   "execution_count": 49,
   "id": "fd8998c4",
   "metadata": {},
   "outputs": [
    {
     "name": "stdout",
     "output_type": "stream",
     "text": [
      "1\n"
     ]
    }
   ],
   "source": [
    "dataset = CustomDataset(sequences, pulse_targets)\n",
    "train_size = int(0.8 * len(dataset))\n",
    "print(len(dataset))"
   ]
  },
  {
   "cell_type": "code",
   "execution_count": 44,
   "id": "21e9b22f",
   "metadata": {},
   "outputs": [
    {
     "name": "stderr",
     "output_type": "stream",
     "text": [
      "/Users/jhirschm/anaconda3/envs/torch-nightly/lib/python3.8/site-packages/torch/utils/data/dataset.py:414: UserWarning: Length of split at index 0 is 0. This might result in an empty dataset.\n",
      "  warnings.warn(f\"Length of split at index {i} is 0. \"\n"
     ]
    },
    {
     "ename": "ValueError",
     "evalue": "num_samples should be a positive integer value, but got num_samples=0",
     "output_type": "error",
     "traceback": [
      "\u001b[0;31m---------------------------------------------------------------------------\u001b[0m",
      "\u001b[0;31mValueError\u001b[0m                                Traceback (most recent call last)",
      "Cell \u001b[0;32mIn[44], line 10\u001b[0m\n\u001b[1;32m      5\u001b[0m \u001b[38;5;66;03m#test_size = len(dataset) - train_size - val_size\u001b[39;00m\n\u001b[1;32m      6\u001b[0m \u001b[38;5;66;03m#train_dataset, val_dataset, test_dataset = random_split(dataset, [train_size, val_size, test_size])\u001b[39;00m\n\u001b[1;32m      7\u001b[0m train_dataset, val_dataset \u001b[38;5;241m=\u001b[39m random_split(dataset, [train_size, val_size])\n\u001b[0;32m---> 10\u001b[0m train_dataloader \u001b[38;5;241m=\u001b[39m \u001b[43mDataLoader\u001b[49m\u001b[43m(\u001b[49m\u001b[43mtrain_dataset\u001b[49m\u001b[43m,\u001b[49m\u001b[43m \u001b[49m\u001b[43mbatch_size\u001b[49m\u001b[38;5;241;43m=\u001b[39;49m\u001b[43mbatch_size\u001b[49m\u001b[43m,\u001b[49m\u001b[43m \u001b[49m\u001b[43mshuffle\u001b[49m\u001b[38;5;241;43m=\u001b[39;49m\u001b[38;5;28;43;01mTrue\u001b[39;49;00m\u001b[43m)\u001b[49m\n\u001b[1;32m     11\u001b[0m val_dataloader \u001b[38;5;241m=\u001b[39m DataLoader(val_dataset, batch_size\u001b[38;5;241m=\u001b[39mbatch_size, shuffle\u001b[38;5;241m=\u001b[39m\u001b[38;5;28;01mFalse\u001b[39;00m)\n\u001b[1;32m     13\u001b[0m \u001b[38;5;66;03m# Initialize the model, loss function, and optimizer\u001b[39;00m\n",
      "File \u001b[0;32m~/anaconda3/envs/torch-nightly/lib/python3.8/site-packages/torch/utils/data/dataloader.py:349\u001b[0m, in \u001b[0;36mDataLoader.__init__\u001b[0;34m(self, dataset, batch_size, shuffle, sampler, batch_sampler, num_workers, collate_fn, pin_memory, drop_last, timeout, worker_init_fn, multiprocessing_context, generator, prefetch_factor, persistent_workers, pin_memory_device)\u001b[0m\n\u001b[1;32m    347\u001b[0m \u001b[38;5;28;01melse\u001b[39;00m:  \u001b[38;5;66;03m# map-style\u001b[39;00m\n\u001b[1;32m    348\u001b[0m     \u001b[38;5;28;01mif\u001b[39;00m shuffle:\n\u001b[0;32m--> 349\u001b[0m         sampler \u001b[38;5;241m=\u001b[39m \u001b[43mRandomSampler\u001b[49m\u001b[43m(\u001b[49m\u001b[43mdataset\u001b[49m\u001b[43m,\u001b[49m\u001b[43m \u001b[49m\u001b[43mgenerator\u001b[49m\u001b[38;5;241;43m=\u001b[39;49m\u001b[43mgenerator\u001b[49m\u001b[43m)\u001b[49m  \u001b[38;5;66;03m# type: ignore[arg-type]\u001b[39;00m\n\u001b[1;32m    350\u001b[0m     \u001b[38;5;28;01melse\u001b[39;00m:\n\u001b[1;32m    351\u001b[0m         sampler \u001b[38;5;241m=\u001b[39m SequentialSampler(dataset)  \u001b[38;5;66;03m# type: ignore[arg-type]\u001b[39;00m\n",
      "File \u001b[0;32m~/anaconda3/envs/torch-nightly/lib/python3.8/site-packages/torch/utils/data/sampler.py:140\u001b[0m, in \u001b[0;36mRandomSampler.__init__\u001b[0;34m(self, data_source, replacement, num_samples, generator)\u001b[0m\n\u001b[1;32m    137\u001b[0m     \u001b[38;5;28;01mraise\u001b[39;00m \u001b[38;5;167;01mTypeError\u001b[39;00m(\u001b[38;5;124mf\u001b[39m\u001b[38;5;124m\"\u001b[39m\u001b[38;5;124mreplacement should be a boolean value, but got replacement=\u001b[39m\u001b[38;5;132;01m{\u001b[39;00m\u001b[38;5;28mself\u001b[39m\u001b[38;5;241m.\u001b[39mreplacement\u001b[38;5;132;01m}\u001b[39;00m\u001b[38;5;124m\"\u001b[39m)\n\u001b[1;32m    139\u001b[0m \u001b[38;5;28;01mif\u001b[39;00m \u001b[38;5;129;01mnot\u001b[39;00m \u001b[38;5;28misinstance\u001b[39m(\u001b[38;5;28mself\u001b[39m\u001b[38;5;241m.\u001b[39mnum_samples, \u001b[38;5;28mint\u001b[39m) \u001b[38;5;129;01mor\u001b[39;00m \u001b[38;5;28mself\u001b[39m\u001b[38;5;241m.\u001b[39mnum_samples \u001b[38;5;241m<\u001b[39m\u001b[38;5;241m=\u001b[39m \u001b[38;5;241m0\u001b[39m:\n\u001b[0;32m--> 140\u001b[0m     \u001b[38;5;28;01mraise\u001b[39;00m \u001b[38;5;167;01mValueError\u001b[39;00m(\u001b[38;5;124mf\u001b[39m\u001b[38;5;124m\"\u001b[39m\u001b[38;5;124mnum_samples should be a positive integer value, but got num_samples=\u001b[39m\u001b[38;5;132;01m{\u001b[39;00m\u001b[38;5;28mself\u001b[39m\u001b[38;5;241m.\u001b[39mnum_samples\u001b[38;5;132;01m}\u001b[39;00m\u001b[38;5;124m\"\u001b[39m)\n",
      "\u001b[0;31mValueError\u001b[0m: num_samples should be a positive integer value, but got num_samples=0"
     ]
    }
   ],
   "source": [
    "# # Create DataLoader\n",
    "dataset = CustomDataset(sequences, pulse_targets)\n",
    "train_size = int(0.8 * len(dataset))\n",
    "val_size = (len(dataset) - train_size)# // 2\n",
    "#test_size = len(dataset) - train_size - val_size\n",
    "#train_dataset, val_dataset, test_dataset = random_split(dataset, [train_size, val_size, test_size])\n",
    "train_dataset, val_dataset = random_split(dataset, [train_size, val_size])\n",
    "\n",
    "\n",
    "train_dataloader = DataLoader(train_dataset, batch_size=batch_size, shuffle=True)\n",
    "val_dataloader = DataLoader(val_dataset, batch_size=batch_size, shuffle=False)\n",
    "\n",
    "# Initialize the model, loss function, and optimizer\n",
    "model = PulseLSTMClassifier(input_size, hidden_size, num_layers, num_classes)\n",
    "model.to(device)\n",
    "\n",
    "criterion = BCEWithLogitsLoss()  # Use BCEWithLogitsLoss for one-hot encoded labels\n",
    "optimizer = optim.Adam(model.parameters(), lr=learning_rate)\n",
    "\n",
    "train_losses = []\n",
    "val_losses = []\n",
    "# Training loop\n",
    "for epoch in range(num_epochs):\n",
    "    model.train()\n",
    "    total_loss = 0\n",
    "    for sequences, pulse_targets in train_dataloader:\n",
    "        batch_images, batch_labels = sequences.to(device), pulse_targets.to(device)\n",
    "#         print(batch_labels)\n",
    "        optimizer.zero_grad()\n",
    "        outputs = model(batch_images)\n",
    "#         print(outputs)\n",
    "        loss = criterion(outputs, batch_labels)\n",
    "        loss.backward()\n",
    "        optimizer.step()\n",
    "        total_loss += loss.item()\n",
    "        \n",
    "        _, predicted = outputs.max(1)  # Get the index of the maximum value\n",
    "        total_samples += batch_labels.size(0)\n",
    "        total_correct += predicted.eq(batch_labels).sum().item()\n",
    "    average_loss = total_loss / len(train_dataloader)\n",
    "    train_losses.append(average_loss)\n",
    "    # Validation\n",
    "    model.eval()\n",
    "    val_loss = 0\n",
    "    correct = 0\n",
    "    total = 0\n",
    "    with torch.no_grad():\n",
    "        for sequences, pulse_targets in val_dataloader:\n",
    "            val_images, val_labels = sequences.to(device), pulse_targets.to(device)\n",
    "            val_outputs = model(val_images)\n",
    "            val_loss += criterion(val_outputs, val_labels).item()\n",
    "        _, predicted = val_outputs.max(1)  # Get the index of the maximum value\n",
    "        total += val_labels.size(0)\n",
    "        correct += predicted.eq(val_labels).sum().item()\n",
    "    average_val_loss = val_loss / len(val_dataloader)\n",
    "    val_losses.append(average_val_loss)\n",
    "    accuracy = 100.0 * correct / total\n",
    "    \n",
    "    print(f'Epoch [{epoch+1}/{num_epochs}], '\n",
    "          f'Train Loss: {average_loss:.4f}, '\n",
    "          f'Val Loss: {average_val_loss:.4f}, '\n",
    "          f'Val Accuracy: {accuracy:.2f}%')\n",
    "\n",
    "print(\"Training finished!\")\n",
    "\n",
    "\n",
    "\n",
    "\n"
   ]
  },
  {
   "cell_type": "code",
   "execution_count": 21,
   "id": "5ab6ba82",
   "metadata": {},
   "outputs": [
    {
     "data": {
      "image/png": "[encoded data removed]",
      "text/plain": [
       "<Figure size 640x480 with 1 Axes>"
      ]
     },
     "metadata": {},
     "output_type": "display_data"
    }
   ],
   "source": [
    "final_num_epochs = 20\n",
    "# Plotting training and validation losses\n",
    "plt.plot(range(2, final_num_epochs + 1), train_losses[1:final_num_epochs], label='Train Loss')\n",
    "plt.plot(range(2, final_num_epochs + 1), val_losses[1:final_num_epochs], label='Validation Loss')\n",
    "plt.xlabel('Epoch')\n",
    "plt.ylabel('Loss')\n",
    "plt.title('Training and Validation Loss')\n",
    "plt.legend()\n",
    "plt.show()\n",
    "\n",
    "# Save the trained model\n",
    "torch.save(model.state_dict(), 'lstm_pulsesOnly_classifier.pth')"
   ]
  },
  {
   "cell_type": "code",
   "execution_count": 27,
   "id": "829b50b0",
   "metadata": {},
   "outputs": [
    {
     "name": "stdout",
     "output_type": "stream",
     "text": [
      "Ground Truth Pulses: 3\n",
      "Predicted Pulses: 3.2474238872528076\n"
     ]
    }
   ],
   "source": [
    "# Load the trained model\n",
    "model = PulseLSTMClassifier(input_size, hidden_size, num_layers, num_classes)\n",
    "model.to(device)\n",
    "model.load_state_dict(torch.load('lstm_pulsesOnly_classifier.pth'))\n",
    "model.eval()\n",
    "\n",
    "new_images = images  \n",
    "\n",
    "new_example_image_normalized= new_images[100]\n",
    "examples_pulses = npulses[100]\n",
    "\n",
    "initial_input = torch.tensor(new_example_image_normalized, dtype=torch.float32)\n",
    "\n",
    "# Predict the remaining 8 rows using the LSTM model\n",
    "with torch.no_grad():\n",
    "    predicted_rows = initial_input.clone()\n",
    "    input_seq = predicted_rows.unsqueeze(0)\n",
    "    input_seq = input_seq.to(device)\n",
    "    predicted_pulses = model(input_seq)\n",
    "    predicted_pulses = predicted_pulses.to('cpu')\n",
    "\n",
    "print(f'Ground Truth Pulses: {examples_pulses}')\n",
    "print(f'Predicted Pulses: {predicted_pulses[0,0]}')\n",
    " \n",
    "\n"
   ]
  },
  {
   "cell_type": "code",
   "execution_count": 28,
   "id": "5d610d81",
   "metadata": {},
   "outputs": [
    {
     "data": {
      "text/plain": [
       "tensor([[ 3.2474,  3.2336,  3.2740, -9.4702, -9.5669, -9.3752, -9.6007, -9.3478,\n",
       "         -9.6690, -9.5859]])"
      ]
     },
     "execution_count": 28,
     "metadata": {},
     "output_type": "execute_result"
    }
   ],
   "source": [
    "predicted_pulses"
   ]
  },
  {
   "cell_type": "code",
   "execution_count": 29,
   "id": "1aedeb12",
   "metadata": {},
   "outputs": [
    {
     "data": {
      "text/plain": [
       "3"
      ]
     },
     "execution_count": 29,
     "metadata": {},
     "output_type": "execute_result"
    }
   ],
   "source": [
    "examples_pulses"
   ]
  },
  {
   "cell_type": "code",
   "execution_count": null,
   "id": "fee347e0",
   "metadata": {},
   "outputs": [],
   "source": []
  }
 ],
 "metadata": {
  "kernelspec": {
   "display_name": "Python 3 (ipykernel)",
   "language": "python",
   "name": "python3"
  },
  "language_info": {
   "codemirror_mode": {
    "name": "ipython",
    "version": 3
   },
   "file_extension": ".py",
   "mimetype": "text/x-python",
   "name": "python",
   "nbconvert_exporter": "python",
   "pygments_lexer": "ipython3",
   "version": "3.8.17"
  }
 },
 "nbformat": 4,
 "nbformat_minor": 5
}
