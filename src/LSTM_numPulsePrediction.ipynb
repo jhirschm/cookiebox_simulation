{
 "cells": [
  {
   "cell_type": "code",
   "execution_count": 1,
   "id": "c2140765",
   "metadata": {},
   "outputs": [
    {
     "name": "stdout",
     "output_type": "stream",
     "text": [
      "MPS is available. Using GPU.\n"
     ]
    }
   ],
   "source": [
    "import torch\n",
    "import torch.nn as nn\n",
    "import torch.optim as optim\n",
    "from torch.utils.data import DataLoader, TensorDataset, random_split\n",
    "from sklearn.preprocessing import StandardScaler\n",
    "from sklearn.preprocessing import MinMaxScaler\n",
    "import numpy as np\n",
    "import h5py\n",
    "import matplotlib.pyplot as plt\n",
    "from torch.optim.lr_scheduler import StepLR\n",
    "\n",
    "# Check if CUDA (GPU support) is available\n",
    "if torch.backends.mps.is_available() and torch.backends.mps.is_built():\n",
    "    device = torch.device(\"mps\")\n",
    "    print(\"MPS is available. Using GPU.\")\n",
    "else:\n",
    "    device = torch.device(\"cpu\")\n",
    "    print(\"MPS is not available. Using CPU.\")"
   ]
  },
  {
   "cell_type": "code",
   "execution_count": null,
   "id": "278e6dc3",
   "metadata": {},
   "outputs": [],
   "source": [
    "\n"
   ]
  },
  {
   "cell_type": "code",
   "execution_count": 24,
   "id": "9184e50b",
   "metadata": {},
   "outputs": [],
   "source": [
    "# Load and preprocess the data\n",
    "def load_and_preprocess_data(file_path):\n",
    "    with h5py.File(file_path, 'r') as h5f:\n",
    "        images = [h5f[img_name][\"hist\"][:].T[:,0:750] for img_name in h5f.keys()]\n",
    "        npulses = [h5f[img_name].attrs['npulses'] for img_name in h5f.keys()]\n",
    "    scaler = MinMaxScaler(feature_range=(-1,1))\n",
    "    for i in range(len(images)):\n",
    "        images[i] = scaler.fit_transform(images[i])\n",
    "    print(images[0].shape)\n",
    "    return images,npulses,scaler\n",
    "\n",
    "\n",
    "\n",
    "# Prepare sequences and targets\n",
    "def create_sequences_and_targets(images,npulses):\n",
    "    sequences = []\n",
    "    npulses_targets = []\n",
    "    for img, puls in zip(images,npulses):\n",
    "        npulses_targets.append(puls)\n",
    "        sequences.append(img)\n",
    "    print(len(sequences))\n",
    "    print(sequences[0].shape)\n",
    "\n",
    "    print(len(npulses_targets))\n",
    "    print(npulses_targets[0].shape)\n",
    "    return torch.tensor(sequences, dtype=torch.float32), torch.tensor(npulses_targets, dtype=torch.float32)\n",
    "\n",
    "# Dataset and DataLoader\n",
    "class CustomDataset(torch.utils.data.Dataset):\n",
    "    def __init__(self, sequences, targets):\n",
    "        self.sequences = sequences\n",
    "        self.targets = targets\n",
    "    \n",
    "    def __len__(self):\n",
    "        return len(self.sequences)\n",
    "    \n",
    "    def __getitem__(self, index):\n",
    "        return self.sequences[index], self.targets[index]\n",
    "\n",
    "class ModifiedLSTMModel(nn.Module):\n",
    "    def __init__(self, input_size, hidden_size, output_size, num_layers, dropout_prob):\n",
    "        super(ModifiedLSTMModel, self).__init__()\n",
    "        self.lstm = nn.LSTM(input_size, hidden_size, num_layers=num_layers, batch_first=True)\n",
    "        self.dropout = nn.Dropout(dropout_prob)\n",
    "        self.fc_layers = nn.Sequential(\n",
    "            nn.Linear(hidden_size, 256),\n",
    "            nn.ReLU(),\n",
    "            nn.Linear(256, 128),\n",
    "            nn.ReLU(),\n",
    "            nn.Dropout(dropout_prob),\n",
    "            nn.Linear(128, output_size),  # Existing output\n",
    "        )\n",
    "    \n",
    "    def forward(self, x):\n",
    "        output, _ = self.lstm(x)\n",
    "        output = output[:, -1, :]\n",
    "        output = self.dropout(output)\n",
    "        output = self.fc_layers(output)\n",
    "        \n",
    "        # Apply tanh to the existing output\n",
    "        new_output = torch.relu(output)  # New output without tanh\n",
    "        return new_output"
   ]
  },
  {
   "cell_type": "code",
   "execution_count": 53,
   "id": "bba246be",
   "metadata": {},
   "outputs": [],
   "source": [
    "# Hyperparameters\n",
    "batch_size = 8\n",
    "num_epochs = 20\n",
    "learning_rate = 0.003\n",
    "input_size = 750\n",
    "hidden_size = 128\n",
    "output_size = 1\n",
    "seq_length = 16  # Number of previous rows to consider\n"
   ]
  },
  {
   "cell_type": "code",
   "execution_count": 26,
   "id": "d395f27f",
   "metadata": {},
   "outputs": [
    {
     "name": "stdout",
     "output_type": "stream",
     "text": [
      "(16, 750)\n",
      "10000\n",
      "(16, 750)\n",
      "10000\n",
      "()\n"
     ]
    }
   ],
   "source": [
    "# Load and preprocess data\n",
    "data_file = '../lstm_data2_simdata.h5'  # Replace with the actual path to your HDF5 file\n",
    "images,npulses, scaler = load_and_preprocess_data(data_file)\n",
    "\n",
    "# # Create sequences and targets\n",
    "sequences, targets = create_sequences_and_targets(images,npulses)\n"
   ]
  },
  {
   "cell_type": "code",
   "execution_count": 54,
   "id": "3a2157b1",
   "metadata": {},
   "outputs": [
    {
     "name": "stdout",
     "output_type": "stream",
     "text": [
      "10000\n"
     ]
    }
   ],
   "source": [
    "# # Create DataLoader\n",
    "dataset = CustomDataset(sequences, targets)\n",
    "train_size = int(0.8 * len(dataset))\n",
    "val_size = int((len(dataset) - train_size) // 1.5)\n",
    "test_size = len(dataset) - train_size - val_size\n",
    "train_dataset, val_dataset, test_dataset = random_split(dataset, [train_size, val_size, test_size])\n",
    "#train_dataset, val_dataset = random_split(dataset, [train_size, val_size])\n",
    "print(len(dataset))\n",
    "\n",
    "train_dataloader = DataLoader(train_dataset, batch_size=batch_size, shuffle=True)\n",
    "val_dataloader = DataLoader(val_dataset, batch_size=batch_size, shuffle=False)\n",
    "test_dataloader = DataLoader(test_dataset, batch_size=batch_size, shuffle=False)\n",
    "\n",
    "# # Initialize the model\n",
    "model = ModifiedLSTMModel(input_size, hidden_size, output_size, num_layers=1, dropout_prob=0)\n",
    "model.to(device)\n",
    "# # Loss function and optimizer\n",
    "criterion = nn.MSELoss()\n",
    "optimizer = optim.Adam(model.parameters(), lr=learning_rate)\n",
    "# Define the learning rate scheduler\n",
    "# StepLR will reduce the learning rate by a factor (gamma) every 'step_size' epochs\n",
    "# step_size = 5  # Adjust this according to your preference\n",
    "# gamma = 0.5  # Adjust this according to your preference\n",
    "# scheduler = StepLR(optimizer, step_size=step_size, gamma=gamma)"
   ]
  },
  {
   "cell_type": "code",
   "execution_count": 55,
   "id": "4f8a7694",
   "metadata": {},
   "outputs": [
    {
     "name": "stdout",
     "output_type": "stream",
     "text": [
      "0.9999272640352077\n",
      "Epoch [1/20], Train Loss: 0.7274, Val Loss: 0.7614\n",
      "0.034874203310287816\n",
      "Epoch [2/20], Train Loss: 0.7020, Val Loss: 0.6534\n",
      "0.03168958035355212\n",
      "Epoch [3/20], Train Loss: 0.6797, Val Loss: 0.6558\n",
      "0.003979816006662451\n",
      "Epoch [4/20], Train Loss: 0.6770, Val Loss: 0.6763\n",
      "-0.0028380182514556886\n",
      "Epoch [5/20], Train Loss: 0.6790, Val Loss: 0.6729\n",
      "0.003617592471396567\n",
      "Epoch [6/20], Train Loss: 0.6746, Val Loss: 0.6528\n",
      "0.003616497229976143\n",
      "Epoch [7/20], Train Loss: 0.6722, Val Loss: 0.6758\n",
      "-0.002788366798754404\n",
      "Epoch [8/20], Train Loss: 0.6740, Val Loss: 0.6529\n",
      "-0.0010148563027362742\n",
      "Epoch [9/20], Train Loss: 0.6728, Val Loss: 0.6537\n",
      "-0.0014014046112451528\n",
      "Epoch [10/20], Train Loss: 0.6731, Val Loss: 0.6597\n",
      "0.00079498619087632\n",
      "Epoch [11/20], Train Loss: 0.6716, Val Loss: 0.6604\n",
      "0.006211513249037571\n",
      "Epoch [12/20], Train Loss: 0.6680, Val Loss: 0.6557\n"
     ]
    },
    {
     "ename": "KeyboardInterrupt",
     "evalue": "",
     "output_type": "error",
     "traceback": [
      "\u001b[0;31m---------------------------------------------------------------------------\u001b[0m",
      "\u001b[0;31mKeyboardInterrupt\u001b[0m                         Traceback (most recent call last)",
      "Cell \u001b[0;32mIn[55], line 21\u001b[0m\n\u001b[1;32m     18\u001b[0m batch_sequences, batch_targets \u001b[38;5;241m=\u001b[39m batch_sequences\u001b[38;5;241m.\u001b[39mto(device), batch_targets\u001b[38;5;241m.\u001b[39mto(device)\n\u001b[1;32m     19\u001b[0m optimizer\u001b[38;5;241m.\u001b[39mzero_grad()\n\u001b[0;32m---> 21\u001b[0m outputs \u001b[38;5;241m=\u001b[39m model(batch_sequences)\n\u001b[1;32m     24\u001b[0m \u001b[38;5;66;03m# Calculate loss for the existing outputs (with tanh)\u001b[39;00m\n\u001b[1;32m     25\u001b[0m loss \u001b[38;5;241m=\u001b[39m criterion(outputs, batch_targets)\n",
      "File \u001b[0;32m~/anaconda3/envs/main_env/lib/python3.11/site-packages/torch/nn/modules/module.py:1518\u001b[0m, in \u001b[0;36mModule._wrapped_call_impl\u001b[0;34m(self, *args, **kwargs)\u001b[0m\n\u001b[1;32m   1516\u001b[0m     \u001b[38;5;28;01mreturn\u001b[39;00m \u001b[38;5;28mself\u001b[39m\u001b[38;5;241m.\u001b[39m_compiled_call_impl(\u001b[38;5;241m*\u001b[39margs, \u001b[38;5;241m*\u001b[39m\u001b[38;5;241m*\u001b[39mkwargs)  \u001b[38;5;66;03m# type: ignore[misc]\u001b[39;00m\n\u001b[1;32m   1517\u001b[0m \u001b[38;5;28;01melse\u001b[39;00m:\n\u001b[0;32m-> 1518\u001b[0m     \u001b[38;5;28;01mreturn\u001b[39;00m \u001b[38;5;28mself\u001b[39m\u001b[38;5;241m.\u001b[39m_call_impl(\u001b[38;5;241m*\u001b[39margs, \u001b[38;5;241m*\u001b[39m\u001b[38;5;241m*\u001b[39mkwargs)\n",
      "File \u001b[0;32m~/anaconda3/envs/main_env/lib/python3.11/site-packages/torch/nn/modules/module.py:1527\u001b[0m, in \u001b[0;36mModule._call_impl\u001b[0;34m(self, *args, **kwargs)\u001b[0m\n\u001b[1;32m   1522\u001b[0m \u001b[38;5;66;03m# If we don't have any hooks, we want to skip the rest of the logic in\u001b[39;00m\n\u001b[1;32m   1523\u001b[0m \u001b[38;5;66;03m# this function, and just call forward.\u001b[39;00m\n\u001b[1;32m   1524\u001b[0m \u001b[38;5;28;01mif\u001b[39;00m \u001b[38;5;129;01mnot\u001b[39;00m (\u001b[38;5;28mself\u001b[39m\u001b[38;5;241m.\u001b[39m_backward_hooks \u001b[38;5;129;01mor\u001b[39;00m \u001b[38;5;28mself\u001b[39m\u001b[38;5;241m.\u001b[39m_backward_pre_hooks \u001b[38;5;129;01mor\u001b[39;00m \u001b[38;5;28mself\u001b[39m\u001b[38;5;241m.\u001b[39m_forward_hooks \u001b[38;5;129;01mor\u001b[39;00m \u001b[38;5;28mself\u001b[39m\u001b[38;5;241m.\u001b[39m_forward_pre_hooks\n\u001b[1;32m   1525\u001b[0m         \u001b[38;5;129;01mor\u001b[39;00m _global_backward_pre_hooks \u001b[38;5;129;01mor\u001b[39;00m _global_backward_hooks\n\u001b[1;32m   1526\u001b[0m         \u001b[38;5;129;01mor\u001b[39;00m _global_forward_hooks \u001b[38;5;129;01mor\u001b[39;00m _global_forward_pre_hooks):\n\u001b[0;32m-> 1527\u001b[0m     \u001b[38;5;28;01mreturn\u001b[39;00m forward_call(\u001b[38;5;241m*\u001b[39margs, \u001b[38;5;241m*\u001b[39m\u001b[38;5;241m*\u001b[39mkwargs)\n\u001b[1;32m   1529\u001b[0m \u001b[38;5;28;01mtry\u001b[39;00m:\n\u001b[1;32m   1530\u001b[0m     result \u001b[38;5;241m=\u001b[39m \u001b[38;5;28;01mNone\u001b[39;00m\n",
      "Cell \u001b[0;32mIn[24], line 60\u001b[0m, in \u001b[0;36mModifiedLSTMModel.forward\u001b[0;34m(self, x)\u001b[0m\n\u001b[1;32m     59\u001b[0m \u001b[38;5;28;01mdef\u001b[39;00m \u001b[38;5;21mforward\u001b[39m(\u001b[38;5;28mself\u001b[39m, x):\n\u001b[0;32m---> 60\u001b[0m     output, _ \u001b[38;5;241m=\u001b[39m \u001b[38;5;28mself\u001b[39m\u001b[38;5;241m.\u001b[39mlstm(x)\n\u001b[1;32m     61\u001b[0m     output \u001b[38;5;241m=\u001b[39m output[:, \u001b[38;5;241m-\u001b[39m\u001b[38;5;241m1\u001b[39m, :]\n\u001b[1;32m     62\u001b[0m     output \u001b[38;5;241m=\u001b[39m \u001b[38;5;28mself\u001b[39m\u001b[38;5;241m.\u001b[39mdropout(output)\n",
      "File \u001b[0;32m~/anaconda3/envs/main_env/lib/python3.11/site-packages/torch/nn/modules/module.py:1518\u001b[0m, in \u001b[0;36mModule._wrapped_call_impl\u001b[0;34m(self, *args, **kwargs)\u001b[0m\n\u001b[1;32m   1516\u001b[0m     \u001b[38;5;28;01mreturn\u001b[39;00m \u001b[38;5;28mself\u001b[39m\u001b[38;5;241m.\u001b[39m_compiled_call_impl(\u001b[38;5;241m*\u001b[39margs, \u001b[38;5;241m*\u001b[39m\u001b[38;5;241m*\u001b[39mkwargs)  \u001b[38;5;66;03m# type: ignore[misc]\u001b[39;00m\n\u001b[1;32m   1517\u001b[0m \u001b[38;5;28;01melse\u001b[39;00m:\n\u001b[0;32m-> 1518\u001b[0m     \u001b[38;5;28;01mreturn\u001b[39;00m \u001b[38;5;28mself\u001b[39m\u001b[38;5;241m.\u001b[39m_call_impl(\u001b[38;5;241m*\u001b[39margs, \u001b[38;5;241m*\u001b[39m\u001b[38;5;241m*\u001b[39mkwargs)\n",
      "File \u001b[0;32m~/anaconda3/envs/main_env/lib/python3.11/site-packages/torch/nn/modules/module.py:1527\u001b[0m, in \u001b[0;36mModule._call_impl\u001b[0;34m(self, *args, **kwargs)\u001b[0m\n\u001b[1;32m   1522\u001b[0m \u001b[38;5;66;03m# If we don't have any hooks, we want to skip the rest of the logic in\u001b[39;00m\n\u001b[1;32m   1523\u001b[0m \u001b[38;5;66;03m# this function, and just call forward.\u001b[39;00m\n\u001b[1;32m   1524\u001b[0m \u001b[38;5;28;01mif\u001b[39;00m \u001b[38;5;129;01mnot\u001b[39;00m (\u001b[38;5;28mself\u001b[39m\u001b[38;5;241m.\u001b[39m_backward_hooks \u001b[38;5;129;01mor\u001b[39;00m \u001b[38;5;28mself\u001b[39m\u001b[38;5;241m.\u001b[39m_backward_pre_hooks \u001b[38;5;129;01mor\u001b[39;00m \u001b[38;5;28mself\u001b[39m\u001b[38;5;241m.\u001b[39m_forward_hooks \u001b[38;5;129;01mor\u001b[39;00m \u001b[38;5;28mself\u001b[39m\u001b[38;5;241m.\u001b[39m_forward_pre_hooks\n\u001b[1;32m   1525\u001b[0m         \u001b[38;5;129;01mor\u001b[39;00m _global_backward_pre_hooks \u001b[38;5;129;01mor\u001b[39;00m _global_backward_hooks\n\u001b[1;32m   1526\u001b[0m         \u001b[38;5;129;01mor\u001b[39;00m _global_forward_hooks \u001b[38;5;129;01mor\u001b[39;00m _global_forward_pre_hooks):\n\u001b[0;32m-> 1527\u001b[0m     \u001b[38;5;28;01mreturn\u001b[39;00m forward_call(\u001b[38;5;241m*\u001b[39margs, \u001b[38;5;241m*\u001b[39m\u001b[38;5;241m*\u001b[39mkwargs)\n\u001b[1;32m   1529\u001b[0m \u001b[38;5;28;01mtry\u001b[39;00m:\n\u001b[1;32m   1530\u001b[0m     result \u001b[38;5;241m=\u001b[39m \u001b[38;5;28;01mNone\u001b[39;00m\n",
      "File \u001b[0;32m~/anaconda3/envs/main_env/lib/python3.11/site-packages/torch/nn/modules/rnn.py:843\u001b[0m, in \u001b[0;36mLSTM.forward\u001b[0;34m(self, input, hx)\u001b[0m\n\u001b[1;32m    840\u001b[0m         hx \u001b[38;5;241m=\u001b[39m \u001b[38;5;28mself\u001b[39m\u001b[38;5;241m.\u001b[39mpermute_hidden(hx, sorted_indices)\n\u001b[1;32m    842\u001b[0m \u001b[38;5;28;01mif\u001b[39;00m batch_sizes \u001b[38;5;129;01mis\u001b[39;00m \u001b[38;5;28;01mNone\u001b[39;00m:\n\u001b[0;32m--> 843\u001b[0m     result \u001b[38;5;241m=\u001b[39m _VF\u001b[38;5;241m.\u001b[39mlstm(\u001b[38;5;28minput\u001b[39m, hx, \u001b[38;5;28mself\u001b[39m\u001b[38;5;241m.\u001b[39m_flat_weights, \u001b[38;5;28mself\u001b[39m\u001b[38;5;241m.\u001b[39mbias, \u001b[38;5;28mself\u001b[39m\u001b[38;5;241m.\u001b[39mnum_layers,\n\u001b[1;32m    844\u001b[0m                       \u001b[38;5;28mself\u001b[39m\u001b[38;5;241m.\u001b[39mdropout, \u001b[38;5;28mself\u001b[39m\u001b[38;5;241m.\u001b[39mtraining, \u001b[38;5;28mself\u001b[39m\u001b[38;5;241m.\u001b[39mbidirectional, \u001b[38;5;28mself\u001b[39m\u001b[38;5;241m.\u001b[39mbatch_first)\n\u001b[1;32m    845\u001b[0m \u001b[38;5;28;01melse\u001b[39;00m:\n\u001b[1;32m    846\u001b[0m     result \u001b[38;5;241m=\u001b[39m _VF\u001b[38;5;241m.\u001b[39mlstm(\u001b[38;5;28minput\u001b[39m, batch_sizes, hx, \u001b[38;5;28mself\u001b[39m\u001b[38;5;241m.\u001b[39m_flat_weights, \u001b[38;5;28mself\u001b[39m\u001b[38;5;241m.\u001b[39mbias,\n\u001b[1;32m    847\u001b[0m                       \u001b[38;5;28mself\u001b[39m\u001b[38;5;241m.\u001b[39mnum_layers, \u001b[38;5;28mself\u001b[39m\u001b[38;5;241m.\u001b[39mdropout, \u001b[38;5;28mself\u001b[39m\u001b[38;5;241m.\u001b[39mtraining, \u001b[38;5;28mself\u001b[39m\u001b[38;5;241m.\u001b[39mbidirectional)\n",
      "\u001b[0;31mKeyboardInterrupt\u001b[0m: "
     ]
    }
   ],
   "source": [
    "# Lists to store training and validation losses\n",
    "train_losses = []\n",
    "val_losses = []\n",
    "\n",
    "#Initialize variables for early stopping\n",
    "best_train_loss = 10000\n",
    "patience = 10  # Number of epochs without improvement to wait before stopping\n",
    "min_loss_change = 0.001  # Half a percent change threshold\n",
    "early_stopping_counter = 0\n",
    "\n",
    "# Training loop\n",
    "for epoch in range(num_epochs):\n",
    "    model.train()\n",
    "    total_train_loss = 0\n",
    "    for batch_sequences, batch_targets in train_dataloader:\n",
    "#         print(batch_sequences.shape)\n",
    "#         print(batch_targets.shape)\n",
    "        batch_sequences, batch_targets = batch_sequences.to(device), batch_targets.to(device)\n",
    "        optimizer.zero_grad()\n",
    "        \n",
    "        outputs = model(batch_sequences)\n",
    "        \n",
    "    \n",
    "        # Calculate loss for the existing outputs (with tanh)\n",
    "        loss = criterion(outputs, batch_targets)\n",
    "        \n",
    "        loss.backward()\n",
    "        optimizer.step()\n",
    "        \n",
    "        total_train_loss += loss.item()\n",
    "    \n",
    "    train_loss = total_train_loss / len(train_dataloader)\n",
    "    train_losses.append(train_loss)\n",
    "    \n",
    "    loss_change = (best_train_loss-train_loss)/best_train_loss\n",
    "    # Check if training loss has improved\n",
    "    print(loss_change)\n",
    "    if loss_change >= min_loss_change:\n",
    "        best_train_loss = train_loss\n",
    "        early_stopping_counter = 0\n",
    "    else:\n",
    "        early_stopping_counter += 1\n",
    "\n",
    "    # Check if early stopping criteria are met\n",
    "    if early_stopping_counter >= patience:\n",
    "        print(f\"Early stopping triggered. Best training loss: {best_train_loss}\")\n",
    "        break\n",
    "        \n",
    "    # Evaluation on validation set\n",
    "    model.eval()\n",
    "    with torch.no_grad():\n",
    "        total_val_loss = 0\n",
    "        for batch_sequences, batch_targets in val_dataloader:\n",
    "            batch_sequences, batch_targets = batch_sequences.to(device), batch_targets.to(device)\n",
    "            outputs = model(batch_sequences)\n",
    "            \n",
    "\n",
    "            # Calculate loss for the existing outputs (with tanh)\n",
    "            loss = criterion(outputs, batch_targets)\n",
    "\n",
    "\n",
    "            total_val_loss += loss.item()\n",
    "        \n",
    "        val_loss = total_val_loss / len(val_dataloader)\n",
    "        val_losses.append(val_loss)\n",
    "    \n",
    "    print(f'Epoch [{epoch+1}/{num_epochs}], Train Loss: {train_loss:.4f}, Val Loss: {val_loss:.4f}')\n",
    "    final_num_epochs = epoch\n",
    "    \n",
    "#     # Update the learning rate\n",
    "#     scheduler.step()\n",
    "    \n",
    "#     # Print the current learning rate (optional)\n",
    "#     print(f\"Epoch {epoch+1}, Learning Rate: {optimizer.param_groups[0]['lr']}\")\n",
    "print(\"Training finished!\")\n"
   ]
  },
  {
   "cell_type": "code",
   "execution_count": null,
   "id": "ee4abdc4",
   "metadata": {},
   "outputs": [],
   "source": [
    "train_size"
   ]
  },
  {
   "cell_type": "code",
   "execution_count": 32,
   "id": "2a591c7d",
   "metadata": {},
   "outputs": [
    {
     "data": {
      "image/png": "[encoded data removed]",
      "text/plain": [
       "<Figure size 640x480 with 1 Axes>"
      ]
     },
     "metadata": {},
     "output_type": "display_data"
    }
   ],
   "source": [
    "# Plotting training and validation losses\n",
    "plt.plot(range(1, final_num_epochs + 1), train_losses[0:final_num_epochs], label='Train Loss')\n",
    "plt.plot(range(1, final_num_epochs + 1), val_losses[0:final_num_epochs], label='Validation Loss')\n",
    "plt.xlabel('Epoch')\n",
    "plt.ylabel('Loss')\n",
    "plt.title('Training and Validation Loss')\n",
    "plt.legend()\n",
    "plt.show()\n",
    "\n",
    "# Save the trained model\n",
    "torch.save(model.state_dict(), 'lstm_npulses_model.pth')"
   ]
  },
  {
   "cell_type": "code",
   "execution_count": 37,
   "id": "a18f2ae7",
   "metadata": {},
   "outputs": [
    {
     "ename": "IndexError",
     "evalue": "too many indices for tensor of dimension 2",
     "output_type": "error",
     "traceback": [
      "\u001b[0;31m---------------------------------------------------------------------------\u001b[0m",
      "\u001b[0;31mIndexError\u001b[0m                                Traceback (most recent call last)",
      "Cell \u001b[0;32mIn[37], line 16\u001b[0m\n\u001b[1;32m     14\u001b[0m \u001b[38;5;28;01mwith\u001b[39;00m torch\u001b[38;5;241m.\u001b[39mno_grad():\n\u001b[1;32m     15\u001b[0m     input_seq \u001b[38;5;241m=\u001b[39m initial_input\u001b[38;5;241m.\u001b[39mto(device)\n\u001b[0;32m---> 16\u001b[0m     predicted \u001b[38;5;241m=\u001b[39m model(input_seq)\n\u001b[1;32m     17\u001b[0m     \u001b[38;5;28mprint\u001b[39m(predicted\u001b[38;5;241m.\u001b[39mshape)\n\u001b[1;32m     18\u001b[0m     predicted \u001b[38;5;241m=\u001b[39m predicted\u001b[38;5;241m.\u001b[39mto(\u001b[38;5;124m'\u001b[39m\u001b[38;5;124mcpu\u001b[39m\u001b[38;5;124m'\u001b[39m)\n",
      "File \u001b[0;32m~/anaconda3/envs/main_env/lib/python3.11/site-packages/torch/nn/modules/module.py:1518\u001b[0m, in \u001b[0;36mModule._wrapped_call_impl\u001b[0;34m(self, *args, **kwargs)\u001b[0m\n\u001b[1;32m   1516\u001b[0m     \u001b[38;5;28;01mreturn\u001b[39;00m \u001b[38;5;28mself\u001b[39m\u001b[38;5;241m.\u001b[39m_compiled_call_impl(\u001b[38;5;241m*\u001b[39margs, \u001b[38;5;241m*\u001b[39m\u001b[38;5;241m*\u001b[39mkwargs)  \u001b[38;5;66;03m# type: ignore[misc]\u001b[39;00m\n\u001b[1;32m   1517\u001b[0m \u001b[38;5;28;01melse\u001b[39;00m:\n\u001b[0;32m-> 1518\u001b[0m     \u001b[38;5;28;01mreturn\u001b[39;00m \u001b[38;5;28mself\u001b[39m\u001b[38;5;241m.\u001b[39m_call_impl(\u001b[38;5;241m*\u001b[39margs, \u001b[38;5;241m*\u001b[39m\u001b[38;5;241m*\u001b[39mkwargs)\n",
      "File \u001b[0;32m~/anaconda3/envs/main_env/lib/python3.11/site-packages/torch/nn/modules/module.py:1527\u001b[0m, in \u001b[0;36mModule._call_impl\u001b[0;34m(self, *args, **kwargs)\u001b[0m\n\u001b[1;32m   1522\u001b[0m \u001b[38;5;66;03m# If we don't have any hooks, we want to skip the rest of the logic in\u001b[39;00m\n\u001b[1;32m   1523\u001b[0m \u001b[38;5;66;03m# this function, and just call forward.\u001b[39;00m\n\u001b[1;32m   1524\u001b[0m \u001b[38;5;28;01mif\u001b[39;00m \u001b[38;5;129;01mnot\u001b[39;00m (\u001b[38;5;28mself\u001b[39m\u001b[38;5;241m.\u001b[39m_backward_hooks \u001b[38;5;129;01mor\u001b[39;00m \u001b[38;5;28mself\u001b[39m\u001b[38;5;241m.\u001b[39m_backward_pre_hooks \u001b[38;5;129;01mor\u001b[39;00m \u001b[38;5;28mself\u001b[39m\u001b[38;5;241m.\u001b[39m_forward_hooks \u001b[38;5;129;01mor\u001b[39;00m \u001b[38;5;28mself\u001b[39m\u001b[38;5;241m.\u001b[39m_forward_pre_hooks\n\u001b[1;32m   1525\u001b[0m         \u001b[38;5;129;01mor\u001b[39;00m _global_backward_pre_hooks \u001b[38;5;129;01mor\u001b[39;00m _global_backward_hooks\n\u001b[1;32m   1526\u001b[0m         \u001b[38;5;129;01mor\u001b[39;00m _global_forward_hooks \u001b[38;5;129;01mor\u001b[39;00m _global_forward_pre_hooks):\n\u001b[0;32m-> 1527\u001b[0m     \u001b[38;5;28;01mreturn\u001b[39;00m forward_call(\u001b[38;5;241m*\u001b[39margs, \u001b[38;5;241m*\u001b[39m\u001b[38;5;241m*\u001b[39mkwargs)\n\u001b[1;32m   1529\u001b[0m \u001b[38;5;28;01mtry\u001b[39;00m:\n\u001b[1;32m   1530\u001b[0m     result \u001b[38;5;241m=\u001b[39m \u001b[38;5;28;01mNone\u001b[39;00m\n",
      "Cell \u001b[0;32mIn[24], line 61\u001b[0m, in \u001b[0;36mModifiedLSTMModel.forward\u001b[0;34m(self, x)\u001b[0m\n\u001b[1;32m     59\u001b[0m \u001b[38;5;28;01mdef\u001b[39;00m \u001b[38;5;21mforward\u001b[39m(\u001b[38;5;28mself\u001b[39m, x):\n\u001b[1;32m     60\u001b[0m     output, _ \u001b[38;5;241m=\u001b[39m \u001b[38;5;28mself\u001b[39m\u001b[38;5;241m.\u001b[39mlstm(x)\n\u001b[0;32m---> 61\u001b[0m     output \u001b[38;5;241m=\u001b[39m output[:, \u001b[38;5;241m-\u001b[39m\u001b[38;5;241m1\u001b[39m, :]\n\u001b[1;32m     62\u001b[0m     output \u001b[38;5;241m=\u001b[39m \u001b[38;5;28mself\u001b[39m\u001b[38;5;241m.\u001b[39mdropout(output)\n\u001b[1;32m     63\u001b[0m     output \u001b[38;5;241m=\u001b[39m \u001b[38;5;28mself\u001b[39m\u001b[38;5;241m.\u001b[39mfc_layers(output)\n",
      "\u001b[0;31mIndexError\u001b[0m: too many indices for tensor of dimension 2"
     ]
    }
   ],
   "source": [
    "# Load the trained model\n",
    "model = ModifiedLSTMModel(input_size, hidden_size, output_size, num_layers=1, dropout_prob=0)\n",
    "model.to(device)\n",
    "model.load_state_dict(torch.load('lstm_npulses_model.pth'))\n",
    "model.eval()\n",
    "\n",
    "new_images = images  \n",
    "\n",
    "new_example_image_normalized= new_images[100]\n",
    "examples_pulses = npulses[100]\n",
    "\n",
    "initial_input = torch.tensor(new_example_image_normalized, dtype=torch.float32)\n",
    "npulses_list = []\n",
    "with torch.no_grad():\n",
    "    input_seq = initial_input.to(device)\n",
    "    predicted = model(input_seq)\n",
    "    print(predicted.shape)\n",
    "    predicted = predicted.to('cpu')\n",
    "        \n",
    "# Plot the ground truth and predicted images side by side\n",
    "def plot_image(data):\n",
    "    fig, axes = plt.subplots(1, 1, figsize=(12, 6))\n",
    "    axes[0].imshow(data, cmap='viridis', origin='lower', aspect='auto')\n",
    "    axes[0].set_title(f'True' + f'Pulses: {examples_pulses} ;  Predicted Pulses: {predicted}')\n",
    "\n",
    "    plt.show\n",
    "    \n",
    "plot_image(new_example_image_normalized)\n",
    "\n",
    "\n",
    "\n"
   ]
  },
  {
   "cell_type": "code",
   "execution_count": null,
   "id": "705b57d3",
   "metadata": {},
   "outputs": [],
   "source": []
  }
 ],
 "metadata": {
  "kernelspec": {
   "display_name": "Python 3 (ipykernel)",
   "language": "python",
   "name": "python3"
  },
  "language_info": {
   "codemirror_mode": {
    "name": "ipython",
    "version": 3
   },
   "file_extension": ".py",
   "mimetype": "text/x-python",
   "name": "python",
   "nbconvert_exporter": "python",
   "pygments_lexer": "ipython3",
   "version": "3.11.3"
  }
 },
 "nbformat": 4,
 "nbformat_minor": 5
}
